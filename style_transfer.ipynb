{
  "nbformat": 4,
  "nbformat_minor": 0,
  "metadata": {
    "colab": {
      "name": "Style_Transfer_1.ipynb",
      "version": "0.3.2",
      "provenance": [],
      "collapsed_sections": [],
      "include_colab_link": true
    },
    "kernelspec": {
      "name": "python3",
      "display_name": "Python 3"
    },
    "accelerator": "GPU"
  },
  "cells": [
    {
      "cell_type": "markdown",
      "metadata": {
        "id": "view-in-github",
        "colab_type": "text"
      },
      "source": [
        "[View in Colaboratory](https://colab.research.google.com/github/raahatg21/Creating-Artistic-Images/blob/master/style_transfer.ipynb)"
      ]
    },
    {
      "metadata": {
        "id": "e8HyZzmXNkc3",
        "colab_type": "text"
      },
      "cell_type": "markdown",
      "source": [
        "# Neural Style Transfer"
      ]
    },
    {
      "metadata": {
        "id": "yps9Q_HlNorG",
        "colab_type": "text"
      },
      "cell_type": "markdown",
      "source": [
        "The basic workflow is as follows:\n",
        "\n",
        "---\n",
        "\n",
        "\n",
        "\n",
        "**1. Applying the Model to the images**\n",
        "\n",
        "\n",
        "*   Load a pretrained model.\n",
        "*   Load the *target_image* and *style_reference_image* as variables, and *combination_image* as placeholder. Concatenate all three.\n",
        "*   Pass the batch through the model.\n",
        "\n",
        "\n",
        "---\n",
        "\n",
        "\n",
        "\n",
        "\n",
        "**2. Defining Individual Losses**\n",
        "\n",
        "\n",
        "*   Define the *content_loss*.\n",
        "*   Define the *style_loss* using the *gram_matrix*.\n",
        "*   Define the *total_variation_loss*.\n",
        "\n",
        "\n",
        "---\n",
        "\n",
        "\n",
        "\n",
        "**3. Defining the Final Loss**\n",
        "\n",
        "\n",
        "*   Find the right layer(s) for *content_loss* and *style_loss*.\n",
        "*   Claculate the *layer_features*, i.e. activations of specific layer(s) for initial and combination image, and use them to calculate the loss.\n",
        "*   The final loss is a weighted sum of all three losses.\n",
        "\n",
        "\n",
        "---\n",
        "\n",
        "\n",
        "\n",
        "**4. Optimization**\n",
        "\n",
        "\n",
        "* Define *Evaluator* object, which calculates the *loss* and *gradient* simultaneously (used to overcome the limitation of the optimization algorithm).\n",
        "* Start with the target image.\n",
        "* Pass it throught the optimizer, so at each step it becomes closer to the desired image. Display the image at each step.\n",
        "* Display the final image.\n",
        "\n",
        "\n",
        "---\n",
        "\n",
        "\n",
        "\n",
        "**5. Auxiliary Functions**\n",
        "\n",
        "\n",
        "* Function to load and process images.\n",
        "* Function to deprocess images.\n",
        "\n",
        "\n",
        "\n",
        "\n",
        "\n"
      ]
    },
    {
      "metadata": {
        "id": "pcB_MimxNd0c",
        "colab_type": "code",
        "colab": {
          "base_uri": "https://localhost:8080/",
          "height": 34
        },
        "outputId": "064bcf86-6eff-48e3-d672-e5049bd08b5d"
      },
      "cell_type": "code",
      "source": [
        "import numpy as np\n",
        "from scipy.optimize import fmin_l_bfgs_b\n",
        "from scipy.misc import imsave\n",
        "import time\n",
        "import os\n",
        "\n",
        "from keras.applications import vgg19\n",
        "from keras.preprocessing.image import load_img, img_to_array\n",
        "from keras import backend as K"
      ],
      "execution_count": 1,
      "outputs": [
        {
          "output_type": "stream",
          "text": [
            "Using TensorFlow backend.\n"
          ],
          "name": "stderr"
        }
      ]
    },
    {
      "metadata": {
        "id": "gr1vUIa3oKmh",
        "colab_type": "code",
        "colab": {
          "base_uri": "https://localhost:8080/",
          "height": 2798
        },
        "outputId": "108836d1-555d-436e-c2f2-064f096771f5"
      },
      "cell_type": "code",
      "source": [
        "# Link Google Drive with Colaboratory\n",
        "\n",
        "!apt-get install -y -qq software-properties-common python-software-properties module-init-tools\n",
        "#!add-apt-repository -y ppa:alessandro-strada/ppa 2>&1 > /dev/null\n",
        "#!apt-get update -qq 2>&1 > /dev/null\n",
        "#!apt-get -y install -qq google-drive-ocamlfuse fuse\n",
        "!wget https://launchpad.net/~alessandro-strada/+archive/ubuntu/google-drive-ocamlfuse-beta/+build/15331130/+files/google-drive-ocamlfuse_0.7.0-0ubuntu1_amd64.deb\n",
        "!dpkg -i google-drive-ocamlfuse_0.7.0-0ubuntu1_amd64.deb\n",
        "!apt-get install -f\n",
        "!apt-get -y install -qq fuse\n",
        "from google.colab import auth\n",
        "auth.authenticate_user()\n",
        "from oauth2client.client import GoogleCredentials\n",
        "creds = GoogleCredentials.get_application_default()\n",
        "import getpass\n",
        "!google-drive-ocamlfuse -headless -id={creds.client_id} -secret={creds.client_secret} < /dev/null 2>&1 | grep URL\n",
        "vcode = getpass.getpass()\n",
        "!echo {vcode} | google-drive-ocamlfuse -headless -id={creds.client_id} -secret={creds.client_secret}"
      ],
      "execution_count": 2,
      "outputs": [
        {
          "output_type": "stream",
          "text": [
            "Preconfiguring packages ...\n",
            "Selecting previously unselected package cron.\n",
            "(Reading database ... 18408 files and directories currently installed.)\n",
            "Preparing to unpack .../00-cron_3.0pl1-128ubuntu5_amd64.deb ...\n",
            "Unpacking cron (3.0pl1-128ubuntu5) ...\n",
            "Selecting previously unselected package libapparmor1:amd64.\n",
            "Preparing to unpack .../01-libapparmor1_2.11.0-2ubuntu17.1_amd64.deb ...\n",
            "Unpacking libapparmor1:amd64 (2.11.0-2ubuntu17.1) ...\n",
            "Selecting previously unselected package libdbus-1-3:amd64.\n",
            "Preparing to unpack .../02-libdbus-1-3_1.10.22-1ubuntu1_amd64.deb ...\n",
            "Unpacking libdbus-1-3:amd64 (1.10.22-1ubuntu1) ...\n",
            "Selecting previously unselected package dbus.\n",
            "Preparing to unpack .../03-dbus_1.10.22-1ubuntu1_amd64.deb ...\n",
            "Unpacking dbus (1.10.22-1ubuntu1) ...\n",
            "Selecting previously unselected package dirmngr.\n",
            "Preparing to unpack .../04-dirmngr_2.1.15-1ubuntu8.1_amd64.deb ...\n",
            "Unpacking dirmngr (2.1.15-1ubuntu8.1) ...\n",
            "Selecting previously unselected package distro-info-data.\n",
            "Preparing to unpack .../05-distro-info-data_0.36ubuntu0.2_all.deb ...\n",
            "Unpacking distro-info-data (0.36ubuntu0.2) ...\n",
            "Selecting previously unselected package libkmod2:amd64.\n",
            "Preparing to unpack .../06-libkmod2_24-1ubuntu2_amd64.deb ...\n",
            "Unpacking libkmod2:amd64 (24-1ubuntu2) ...\n",
            "Selecting previously unselected package kmod.\n",
            "Preparing to unpack .../07-kmod_24-1ubuntu2_amd64.deb ...\n",
            "Unpacking kmod (24-1ubuntu2) ...\n",
            "Selecting previously unselected package lsb-release.\n",
            "Preparing to unpack .../08-lsb-release_9.20160110ubuntu5_all.deb ...\n",
            "Unpacking lsb-release (9.20160110ubuntu5) ...\n",
            "Selecting previously unselected package libgirepository-1.0-1:amd64.\n",
            "Preparing to unpack .../09-libgirepository-1.0-1_1.54.1-1_amd64.deb ...\n",
            "Unpacking libgirepository-1.0-1:amd64 (1.54.1-1) ...\n",
            "Selecting previously unselected package gir1.2-glib-2.0:amd64.\n",
            "Preparing to unpack .../10-gir1.2-glib-2.0_1.54.1-1_amd64.deb ...\n",
            "Unpacking gir1.2-glib-2.0:amd64 (1.54.1-1) ...\n",
            "Selecting previously unselected package iso-codes.\n",
            "Preparing to unpack .../11-iso-codes_3.75-1_all.deb ...\n",
            "Unpacking iso-codes (3.75-1) ...\n",
            "Selecting previously unselected package libdbus-glib-1-2:amd64.\n",
            "Preparing to unpack .../12-libdbus-glib-1-2_0.108-2_amd64.deb ...\n",
            "Unpacking libdbus-glib-1-2:amd64 (0.108-2) ...\n",
            "Selecting previously unselected package python-apt-common.\n",
            "Preparing to unpack .../13-python-apt-common_1.4.0~beta3build2_all.deb ...\n",
            "Unpacking python-apt-common (1.4.0~beta3build2) ...\n",
            "Selecting previously unselected package python3-apt.\n",
            "Preparing to unpack .../14-python3-apt_1.4.0~beta3build2_amd64.deb ...\n",
            "Unpacking python3-apt (1.4.0~beta3build2) ...\n",
            "Selecting previously unselected package python3-dbus.\n",
            "Preparing to unpack .../15-python3-dbus_1.2.4-1build3_amd64.deb ...\n",
            "Unpacking python3-dbus (1.2.4-1build3) ...\n",
            "Selecting previously unselected package python3-gi.\n",
            "Preparing to unpack .../16-python3-gi_3.24.1-2build1_amd64.deb ...\n",
            "Unpacking python3-gi (3.24.1-2build1) ...\n",
            "Selecting previously unselected package module-init-tools.\n",
            "Preparing to unpack .../17-module-init-tools_24-1ubuntu2_all.deb ...\n",
            "Unpacking module-init-tools (24-1ubuntu2) ...\n",
            "Selecting previously unselected package python-apt.\n",
            "Preparing to unpack .../18-python-apt_1.4.0~beta3build2_amd64.deb ...\n",
            "Unpacking python-apt (1.4.0~beta3build2) ...\n",
            "Selecting previously unselected package python-pycurl.\n",
            "Preparing to unpack .../19-python-pycurl_7.43.0-2build2_amd64.deb ...\n",
            "Unpacking python-pycurl (7.43.0-2build2) ...\n",
            "Selecting previously unselected package python-software-properties.\n",
            "Preparing to unpack .../20-python-software-properties_0.96.24.17_all.deb ...\n",
            "Unpacking python-software-properties (0.96.24.17) ...\n",
            "Selecting previously unselected package python3-software-properties.\n",
            "Preparing to unpack .../21-python3-software-properties_0.96.24.17_all.deb ...\n",
            "Unpacking python3-software-properties (0.96.24.17) ...\n",
            "Selecting previously unselected package software-properties-common.\n",
            "Preparing to unpack .../22-software-properties-common_0.96.24.17_all.deb ...\n",
            "Unpacking software-properties-common (0.96.24.17) ...\n",
            "Selecting previously unselected package unattended-upgrades.\n",
            "Preparing to unpack .../23-unattended-upgrades_0.98ubuntu1.1_all.deb ...\n",
            "Unpacking unattended-upgrades (0.98ubuntu1.1) ...\n",
            "Setting up python-apt-common (1.4.0~beta3build2) ...\n",
            "Setting up python3-apt (1.4.0~beta3build2) ...\n",
            "Setting up iso-codes (3.75-1) ...\n",
            "Setting up distro-info-data (0.36ubuntu0.2) ...\n",
            "Setting up python-pycurl (7.43.0-2build2) ...\n",
            "Setting up lsb-release (9.20160110ubuntu5) ...\n",
            "Setting up libgirepository-1.0-1:amd64 (1.54.1-1) ...\n",
            "Setting up libkmod2:amd64 (24-1ubuntu2) ...\n",
            "Setting up gir1.2-glib-2.0:amd64 (1.54.1-1) ...\n",
            "Processing triggers for libc-bin (2.26-0ubuntu2.1) ...\n",
            "Setting up libapparmor1:amd64 (2.11.0-2ubuntu17.1) ...\n",
            "Setting up unattended-upgrades (0.98ubuntu1.1) ...\n",
            "\n",
            "Creating config file /etc/apt/apt.conf.d/20auto-upgrades with new version\n",
            "\n",
            "Creating config file /etc/apt/apt.conf.d/50unattended-upgrades with new version\n",
            "invoke-rc.d: could not determine current runlevel\n",
            "invoke-rc.d: policy-rc.d denied execution of start.\n",
            "Setting up dirmngr (2.1.15-1ubuntu8.1) ...\n",
            "Setting up cron (3.0pl1-128ubuntu5) ...\n",
            "Adding group `crontab' (GID 102) ...\n",
            "Done.\n",
            "update-rc.d: warning: start and stop actions are no longer supported; falling back to defaults\n",
            "update-rc.d: warning: stop runlevel arguments (1) do not match cron Default-Stop values (none)\n",
            "invoke-rc.d: could not determine current runlevel\n",
            "invoke-rc.d: policy-rc.d denied execution of start.\n",
            "Setting up libdbus-1-3:amd64 (1.10.22-1ubuntu1) ...\n",
            "Setting up kmod (24-1ubuntu2) ...\n",
            "Setting up libdbus-glib-1-2:amd64 (0.108-2) ...\n",
            "Setting up python3-gi (3.24.1-2build1) ...\n",
            "Setting up module-init-tools (24-1ubuntu2) ...\n",
            "Setting up python3-software-properties (0.96.24.17) ...\n",
            "Setting up dbus (1.10.22-1ubuntu1) ...\n",
            "Setting up python-apt (1.4.0~beta3build2) ...\n",
            "Setting up python3-dbus (1.2.4-1build3) ...\n",
            "Setting up python-software-properties (0.96.24.17) ...\n",
            "Setting up software-properties-common (0.96.24.17) ...\n",
            "Processing triggers for libc-bin (2.26-0ubuntu2.1) ...\n",
            "Processing triggers for dbus (1.10.22-1ubuntu1) ...\n",
            "\n",
            "Redirecting output to ‘wget-log’.\n",
            "Selecting previously unselected package google-drive-ocamlfuse.\n",
            "(Reading database ... 19816 files and directories currently installed.)\n",
            "Preparing to unpack google-drive-ocamlfuse_0.7.0-0ubuntu1_amd64.deb ...\n",
            "Unpacking google-drive-ocamlfuse (0.7.0-0ubuntu1) ...\n",
            "\u001b[1mdpkg:\u001b[0m dependency problems prevent configuration of google-drive-ocamlfuse:\n",
            " google-drive-ocamlfuse depends on libfuse2 (>= 2.8); however:\n",
            "  Package libfuse2 is not installed.\n",
            "\n",
            "\u001b[1mdpkg:\u001b[0m error processing package google-drive-ocamlfuse (--install):\n",
            " dependency problems - leaving unconfigured\n",
            "Errors were encountered while processing:\n",
            " google-drive-ocamlfuse\n",
            "Reading package lists... Done\n",
            "Building dependency tree       \n",
            "Reading state information... Done\n",
            "Correcting dependencies... Done\n",
            "The following additional packages will be installed:\n",
            "  libfuse2\n",
            "Suggested packages:\n",
            "  fuse\n",
            "The following NEW packages will be installed:\n",
            "  libfuse2\n",
            "0 upgraded, 1 newly installed, 0 to remove and 0 not upgraded.\n",
            "1 not fully installed or removed.\n",
            "Need to get 80.9 kB of archives.\n",
            "After this operation, 313 kB of additional disk space will be used.\n",
            "Get:1 http://archive.ubuntu.com/ubuntu artful/main amd64 libfuse2 amd64 2.9.7-1ubuntu1 [80.9 kB]\n",
            "Fetched 80.9 kB in 0s (120 kB/s)\n",
            "Selecting previously unselected package libfuse2:amd64.\n",
            "(Reading database ... 19821 files and directories currently installed.)\n",
            "Preparing to unpack .../libfuse2_2.9.7-1ubuntu1_amd64.deb ...\n",
            "Unpacking libfuse2:amd64 (2.9.7-1ubuntu1) ...\n",
            "Setting up libfuse2:amd64 (2.9.7-1ubuntu1) ...\n",
            "Processing triggers for libc-bin (2.26-0ubuntu2.1) ...\n",
            "Setting up google-drive-ocamlfuse (0.7.0-0ubuntu1) ...\n",
            "Selecting previously unselected package fuse.\n",
            "(Reading database ... 19833 files and directories currently installed.)\n",
            "Preparing to unpack .../fuse_2.9.7-1ubuntu1_amd64.deb ...\n",
            "Unpacking fuse (2.9.7-1ubuntu1) ...\n",
            "Setting up fuse (2.9.7-1ubuntu1) ...\n",
            "Please, open the following URL in a web browser: https://accounts.google.com/o/oauth2/auth?client_id=32555940559.apps.googleusercontent.com&redirect_uri=urn%3Aietf%3Awg%3Aoauth%3A2.0%3Aoob&scope=https%3A%2F%2Fwww.googleapis.com%2Fauth%2Fdrive&response_type=code&access_type=offline&approval_prompt=force\n",
            "··········\n",
            "Please, open the following URL in a web browser: https://accounts.google.com/o/oauth2/auth?client_id=32555940559.apps.googleusercontent.com&redirect_uri=urn%3Aietf%3Awg%3Aoauth%3A2.0%3Aoob&scope=https%3A%2F%2Fwww.googleapis.com%2Fauth%2Fdrive&response_type=code&access_type=offline&approval_prompt=force\n",
            "Please enter the verification code: Access token retrieved correctly.\n"
          ],
          "name": "stdout"
        }
      ]
    },
    {
      "metadata": {
        "id": "KtOuYMQFwP0N",
        "colab_type": "code",
        "colab": {}
      },
      "cell_type": "code",
      "source": [
        "!mkdir -p drive\n",
        "!google-drive-ocamlfuse drive"
      ],
      "execution_count": 0,
      "outputs": []
    },
    {
      "metadata": {
        "id": "TUDdwH9ewTjA",
        "colab_type": "code",
        "colab": {
          "base_uri": "https://localhost:8080/",
          "height": 52
        },
        "outputId": "51862345-ed11-4511-fc98-03662c06b8f2"
      },
      "cell_type": "code",
      "source": [
        "!ls"
      ],
      "execution_count": 4,
      "outputs": [
        {
          "output_type": "stream",
          "text": [
            "adc.json  google-drive-ocamlfuse_0.7.0-0ubuntu1_amd64.deb  wget-log\n",
            "drive\t  sample_data\n"
          ],
          "name": "stdout"
        }
      ]
    },
    {
      "metadata": {
        "id": "1WbANdSJwVom",
        "colab_type": "code",
        "colab": {
          "base_uri": "https://localhost:8080/",
          "height": 382
        },
        "outputId": "74847117-6be9-4328-9f56-0179bc80a3ae"
      },
      "cell_type": "code",
      "source": [
        "!ls drive"
      ],
      "execution_count": 5,
      "outputs": [
        {
          "output_type": "stream",
          "text": [
            "cats_and_dogs_small\t\t Perl_1.pdf\n",
            "CG\t\t\t\t Perl_2.pdf\n",
            "CG.rar\t\t\t\t Perl_3.pdf\n",
            "Colab Notebooks\t\t\t Perl_4.pdf\n",
            "Deep_Dream_1.ipynb\t\t Perl_5.pdf\n",
            "Deep_Dream_2.ipynb\t\t Perl_6.pdf\n",
            "Dropbox_Chollet.pdf\t\t Perl_7.pdf\n",
            "Email Doc.odt\t\t\t RoboFiesta 3.0 breif.odt\n",
            "Financial Aid - Coursera.odt\t RoboFiesta 3.0 detail.odt\n",
            "glove.6B.100d.txt\t\t Robotics\n",
            "glove.6B.200d.txt\t\t Robotics.rar\n",
            "Google Colab Key .odt\t\t sample-images\n",
            "Images for Deep Dream\t\t Style_Transfer_1.ipynb\n",
            "IMDB_Dataset\t\t\t TensorBoard\n",
            "IMG-20171220-WA0015.jpg\t\t Untitled\n",
            "jena_climate_2009_2016.csv\t Untitled0.ipynb\n",
            "Language_Model_1.ipynb\t\t Untitled1.ipynb\n",
            "my_model.h5\t\t\t Untitled (2093b74d)\n",
            "New Doc 2018-09-01 11.27.40.odt  Untitled2.ipynb\n",
            "Papers (1).zip\t\t\t Untitled3.ipynb\n",
            "Papers (1).zip (Unzipped Files)  Untitled4.ipynb\n"
          ],
          "name": "stdout"
        }
      ]
    },
    {
      "metadata": {
        "id": "62RjJ6phwYYH",
        "colab_type": "code",
        "colab": {}
      },
      "cell_type": "code",
      "source": [
        "base_dir = 'drive/sample-images'"
      ],
      "execution_count": 0,
      "outputs": []
    },
    {
      "metadata": {
        "id": "kaluYIH9pgrd",
        "colab_type": "code",
        "colab": {}
      },
      "cell_type": "code",
      "source": [
        "target_dir = os.path.join(base_dir, 'content')\n",
        "style_dir = os.path.join(base_dir, 'style')\n",
        "final_dir = os.path.join(base_dir, 'final')"
      ],
      "execution_count": 0,
      "outputs": []
    },
    {
      "metadata": {
        "id": "qnJ4oa2JyJvz",
        "colab_type": "text"
      },
      "cell_type": "markdown",
      "source": [
        "Change the content and style images here.\n",
        "\n",
        "---\n",
        "\n"
      ]
    },
    {
      "metadata": {
        "id": "EcjfGL5pxaDO",
        "colab_type": "code",
        "colab": {}
      },
      "cell_type": "code",
      "source": [
        "target_name = 'supercar-dubai.jpg'\n",
        "target_path = os.path.join(target_dir, target_name)\n",
        "\n",
        "style_name = 'marcus-d-lone-wolf.jpg'\n",
        "style_path = os.path.join(style_dir, style_name)"
      ],
      "execution_count": 0,
      "outputs": []
    },
    {
      "metadata": {
        "id": "WJXyP_huqK_A",
        "colab_type": "code",
        "colab": {}
      },
      "cell_type": "code",
      "source": [
        "# Let's keep the height at 400 px and adjust the width accordingly\n",
        "\n",
        "width, height = load_img(target_path).size  # width, height = load_img(target_path).size\n",
        "img_h = 480\n",
        "img_w = int(width * img_h/height)"
      ],
      "execution_count": 0,
      "outputs": []
    },
    {
      "metadata": {
        "id": "92XytyaQqMjI",
        "colab_type": "code",
        "colab": {}
      },
      "cell_type": "code",
      "source": [
        "# Auxiliary Function 1\n",
        "\n",
        "def preprocess_image(path):\n",
        "  img = load_img(path, target_size = (img_h, img_w))\n",
        "  img = img_to_array(img)\n",
        "  img = np.expand_dims(img, axis = 0)  # Adding zeroth axis for no. of samples\n",
        "  img = vgg19.preprocess_input(img)\n",
        "  return img"
      ],
      "execution_count": 0,
      "outputs": []
    },
    {
      "metadata": {
        "id": "R-x8xCbarQTO",
        "colab_type": "code",
        "colab": {}
      },
      "cell_type": "code",
      "source": [
        "# Auxiliary Function 2\n",
        "\n",
        "def deprocess_image(x):\n",
        "  x[:, :, 0] += 103.939  # Reversing the effects of vgg19.preprocess_input(image)\n",
        "  x[:, :, 1] += 116.779\n",
        "  x[:, :, 2] += 123.68\n",
        "  x = x[:, :, ::-1]  # Converting from BGR to RGB\n",
        "  x = np.clip(x, 0, 255).astype('uint8')\n",
        "  return x"
      ],
      "execution_count": 0,
      "outputs": []
    },
    {
      "metadata": {
        "id": "DymyPCBjsIEF",
        "colab_type": "code",
        "colab": {}
      },
      "cell_type": "code",
      "source": [
        "# Defining Constants/Placeholders for the three images\n",
        "\n",
        "target_img = K.constant(preprocess_image(target_path))\n",
        "style_img = K.constant(preprocess_image(style_path))\n",
        "combination_img = K.placeholder((1, img_h, img_w, 3))\n",
        "\n",
        "input_tensor = K.concatenate([target_img, style_img, combination_img], axis = 0)"
      ],
      "execution_count": 0,
      "outputs": []
    },
    {
      "metadata": {
        "id": "7lT_11WYtHgd",
        "colab_type": "code",
        "colab": {
          "base_uri": "https://localhost:8080/",
          "height": 69
        },
        "outputId": "4f819cb8-b822-4953-e816-84e04a228032"
      },
      "cell_type": "code",
      "source": [
        "# Loading the Model and applying it\n",
        "\n",
        "model = vgg19.VGG19(input_tensor = input_tensor, weights = 'imagenet', include_top = False)\n",
        "print('Model Loaded')"
      ],
      "execution_count": 15,
      "outputs": [
        {
          "output_type": "stream",
          "text": [
            "Downloading data from https://github.com/fchollet/deep-learning-models/releases/download/v0.1/vgg19_weights_tf_dim_ordering_tf_kernels_notop.h5\n",
            "80142336/80134624 [==============================] - 7s 0us/step\n",
            "Model Loaded\n"
          ],
          "name": "stdout"
        }
      ]
    },
    {
      "metadata": {
        "id": "IBVIybmZthhm",
        "colab_type": "code",
        "colab": {}
      },
      "cell_type": "code",
      "source": [
        "# Defining Content Loss\n",
        "\n",
        "def content_loss(base, combination):\n",
        "  return K.sum(K.square(combination - base))"
      ],
      "execution_count": 0,
      "outputs": []
    },
    {
      "metadata": {
        "id": "lkEwvwGrtt3i",
        "colab_type": "code",
        "colab": {}
      },
      "cell_type": "code",
      "source": [
        "# Defining Style Loss\n",
        "\n",
        "def gram_matrix(x):\n",
        "  features = K.batch_flatten(K.permute_dimensions(x, (2, 0, 1)))\n",
        "  gram = K.dot(features, K.transpose(features))\n",
        "  return gram\n",
        "\n",
        "def style_loss(style, combination):\n",
        "  S = gram_matrix(style)\n",
        "  C = gram_matrix(combination)\n",
        "  channels = 3\n",
        "  size = img_h * img_w\n",
        "  return K.sum(K.square(S - C)) / (4. * (channels ** 2) * (size ** 2))"
      ],
      "execution_count": 0,
      "outputs": []
    },
    {
      "metadata": {
        "id": "c5MifXcDu7lM",
        "colab_type": "code",
        "colab": {}
      },
      "cell_type": "code",
      "source": [
        "# We also define a 'Total Variation Loss'. It encourages spatial continuity on the generated image, avoiding overly pixelated results.\n",
        "\n",
        "def total_variation_loss(x):\n",
        "  a = K.square(x[:, :img_h - 1, :img_w - 1, :] - x[:, 1:, :img_w - 1, :])\n",
        "  b = K.square(x[:, :img_h - 1, :img_w - 1, :] - x[:, :img_h - 1, 1:, :])\n",
        "  return K.sum(K.pow((a + b), 1.25))"
      ],
      "execution_count": 0,
      "outputs": []
    },
    {
      "metadata": {
        "id": "qK9mdUTTv7xf",
        "colab_type": "code",
        "colab": {}
      },
      "cell_type": "code",
      "source": [
        "# Dictionary corresponding layer name to layer output\n",
        "\n",
        "layer_dict = dict([(layer.name, layer.output) for layer in model.layers])"
      ],
      "execution_count": 0,
      "outputs": []
    },
    {
      "metadata": {
        "id": "h4-T9k_xwqcS",
        "colab_type": "code",
        "colab": {}
      },
      "cell_type": "code",
      "source": [
        "content_layer = 'block5_conv2'  # The last layer\n",
        "style_layers = ['block1_conv1', 'block2_conv1', 'block3_conv1', 'block4_conv1', 'block5_conv1']"
      ],
      "execution_count": 0,
      "outputs": []
    },
    {
      "metadata": {
        "id": "TIQkFfLRyP2Q",
        "colab_type": "text"
      },
      "cell_type": "markdown",
      "source": [
        "Change the weight of content image here.\n",
        "\n",
        "---\n",
        "\n"
      ]
    },
    {
      "metadata": {
        "id": "9T9YIa2FxA8V",
        "colab_type": "code",
        "colab": {}
      },
      "cell_type": "code",
      "source": [
        "total_variation_weight = 1e-4\n",
        "style_weight = 1.\n",
        "content_weight = 0.025  # Change here for variation in results "
      ],
      "execution_count": 0,
      "outputs": []
    },
    {
      "metadata": {
        "id": "9e3uo3-gxPmR",
        "colab_type": "code",
        "colab": {
          "base_uri": "https://localhost:8080/",
          "height": 54
        },
        "outputId": "b182ae26-e7ad-4e2f-fbae-2b1c96663fa9"
      },
      "cell_type": "code",
      "source": [
        "# Adding the content loss\n",
        "\n",
        "loss = K.variable(0.)\n",
        "\n",
        "layer_features = layer_dict[content_layer]\n",
        "target_features = layer_features[0, :, :, :]\n",
        "combination_features = layer_features[2, :, :, :]\n",
        "\n",
        "loss += content_weight * content_loss(target_features, combination_features)"
      ],
      "execution_count": 22,
      "outputs": [
        {
          "output_type": "stream",
          "text": [
            "WARNING:tensorflow:Variable += will be deprecated. Use variable.assign_add if you want assignment to the variable value or 'x = x + y' if you want a new python Tensor object.\n"
          ],
          "name": "stdout"
        }
      ]
    },
    {
      "metadata": {
        "id": "3jzZLRbCx0DK",
        "colab_type": "code",
        "colab": {}
      },
      "cell_type": "code",
      "source": [
        "# Adding the style loss\n",
        "\n",
        "for layer in style_layers:\n",
        "  layer_features = layer_dict[layer]\n",
        "  style_features = layer_features[1, :, :, :]\n",
        "  combination_features = layer_features[2, :, :, :]\n",
        "  \n",
        "  loss += (style_weight / len(style_layers)) * style_loss(style_features, combination_features)"
      ],
      "execution_count": 0,
      "outputs": []
    },
    {
      "metadata": {
        "id": "-lNTVNy4ykXX",
        "colab_type": "code",
        "colab": {}
      },
      "cell_type": "code",
      "source": [
        "# Adding the total variation loss\n",
        "\n",
        "loss += total_variation_weight * total_variation_loss(combination_img)"
      ],
      "execution_count": 0,
      "outputs": []
    },
    {
      "metadata": {
        "id": "KwClIan4y61z",
        "colab_type": "code",
        "colab": {}
      },
      "cell_type": "code",
      "source": [
        "grads = K. gradients(loss, combination_img)[0]\n",
        "\n",
        "fetch_loss_and_grads = K.function([combination_img], [loss, grads])"
      ],
      "execution_count": 0,
      "outputs": []
    },
    {
      "metadata": {
        "id": "RvniNvW90BER",
        "colab_type": "code",
        "colab": {}
      },
      "cell_type": "code",
      "source": [
        "class Evaluator(object):\n",
        "  def __init__(self):\n",
        "    self.loss_val = None\n",
        "    self.grads_val = None\n",
        "    \n",
        "  def loss(self, x):\n",
        "    assert self.loss_val is None\n",
        "    x = x.reshape((1, img_h, img_w, 3))\n",
        "    outs = fetch_loss_and_grads([x])\n",
        "    loss_val = outs[0]\n",
        "    grads_val = outs[1].flatten().astype('float64')\n",
        "    self.loss_val = loss_val\n",
        "    self.grads_val = grads_val\n",
        "    return self.loss_val\n",
        "  \n",
        "  def grads(self, x):\n",
        "    assert self.loss_val is not None\n",
        "    grads_val = np.copy(self.grads_val)\n",
        "    self.loss_val = None\n",
        "    self.grads_val = None\n",
        "    return grads_val\n",
        "\n",
        "evaluator = Evaluator()"
      ],
      "execution_count": 0,
      "outputs": []
    },
    {
      "metadata": {
        "id": "IgD7f5526sS_",
        "colab_type": "code",
        "colab": {
          "base_uri": "https://localhost:8080/",
          "height": 1493
        },
        "outputId": "d1da69d2-fef8-4f13-d73d-4856b26f9583"
      },
      "cell_type": "code",
      "source": [
        "# Minimizing the loss and getting the results\n",
        "\n",
        "iterations = 20\n",
        "\n",
        "x = preprocess_image(target_path)  # We start with the target_img and make changes to it to get combination_img\n",
        "x = x.flatten()  # We need to flatten the input to this optimizer\n",
        "\n",
        "for i in range(iterations):\n",
        "  print('Iteration: {}'.format(i))\n",
        "  start_time = time.time()\n",
        "  \n",
        "  x, min_val, info = fmin_l_bfgs_b(evaluator.loss, x, fprime = evaluator.grads, maxfun = 20)\n",
        "  print('Current loss: {}'.format(min_val))\n",
        "  \n",
        "  if (i+1) % 4 == 0:\n",
        "    img = x.copy().reshape((img_h, img_w, 3))\n",
        "    img = deprocess_image(img)\n",
        "    fname = str(target_name[:-4]) + '-' + str(style_name[:-4]) + \"-iter\" + str(i) + \".jpg\"\n",
        "    file = os.path.join(final_dir, fname)\n",
        "    imsave(file, img)\n",
        "    print('Image saved')\n",
        "  \n",
        "  end_time = time.time()\n",
        "  print('Time elapsed: {}\\n'.format(end_time - start_time))"
      ],
      "execution_count": 27,
      "outputs": [
        {
          "output_type": "stream",
          "text": [
            "Iteration: 0\n",
            "Current loss: 1449898496.0\n",
            "Time elapsed: 29.085963010787964\n",
            "\n",
            "Iteration: 1\n",
            "Current loss: 676878016.0\n",
            "Time elapsed: 24.30152702331543\n",
            "\n",
            "Iteration: 2\n",
            "Current loss: 451362560.0\n",
            "Time elapsed: 24.616976737976074\n",
            "\n",
            "Iteration: 3\n",
            "Current loss: 348556352.0\n",
            "Image saved\n",
            "Time elapsed: 28.35849952697754\n",
            "\n",
            "Iteration: 4\n",
            "Current loss: 288577888.0\n",
            "Time elapsed: 25.15135908126831\n",
            "\n",
            "Iteration: 5\n",
            "Current loss: 251711072.0\n",
            "Time elapsed: 24.95712184906006\n",
            "\n",
            "Iteration: 6\n",
            "Current loss: 227023488.0\n",
            "Time elapsed: 24.957969903945923\n",
            "\n",
            "Iteration: 7\n",
            "Current loss: 206498512.0\n",
            "Image saved\n",
            "Time elapsed: 29.78984522819519\n",
            "\n",
            "Iteration: 8\n",
            "Current loss: 191971776.0\n",
            "Time elapsed: 25.04977035522461\n",
            "\n",
            "Iteration: 9\n",
            "Current loss: 178208080.0\n",
            "Time elapsed: 25.098763704299927\n",
            "\n",
            "Iteration: 10\n",
            "Current loss: 169081616.0\n",
            "Time elapsed: 24.88083815574646\n",
            "\n",
            "Iteration: 11\n",
            "Current loss: 159934720.0\n",
            "Image saved\n",
            "Time elapsed: 28.54998469352722\n",
            "\n",
            "Iteration: 12\n",
            "Current loss: 151275872.0\n",
            "Time elapsed: 25.241708040237427\n",
            "\n",
            "Iteration: 13\n",
            "Current loss: 146292832.0\n",
            "Time elapsed: 25.136611938476562\n",
            "\n",
            "Iteration: 14\n",
            "Current loss: 140647632.0\n",
            "Time elapsed: 25.136667490005493\n",
            "\n",
            "Iteration: 15\n",
            "Current loss: 136268112.0\n",
            "Image saved\n",
            "Time elapsed: 29.724385023117065\n",
            "\n",
            "Iteration: 16\n",
            "Current loss: 132113272.0\n",
            "Time elapsed: 25.396419048309326\n",
            "\n",
            "Iteration: 17\n",
            "Current loss: 128965608.0\n",
            "Time elapsed: 25.076440572738647\n",
            "\n",
            "Iteration: 18\n",
            "Current loss: 125089768.0\n",
            "Time elapsed: 25.125513315200806\n",
            "\n",
            "Iteration: 19\n",
            "Current loss: 121524568.0\n",
            "Image saved\n",
            "Time elapsed: 28.583158254623413\n",
            "\n"
          ],
          "name": "stdout"
        }
      ]
    }
  ]
}